{
 "cells": [
  {
   "cell_type": "markdown",
   "metadata": {},
   "source": [
    "<div class=\"alert alert-block alert-info\">\n",
    "- Pour exécuter le code écrit dans un bloc : <b>MAJ-ENTREE </b><br>\n",
    "- Pour recommencer depuis le début : <b>Menu Kernel / Restart and clear output</b><br>\n",
    "- Toujours exécuter dans l'ordre le code écrit dans les blocs précédés de la mention <b>Entrée [ ]</b><br>\n",
    "- Pour recommencer depuis le début et relancer tout le programme en une fois : <b>Menu Kernel / Restart and Run all </b> <br>\n",
    "</div>"
   ]
  },
  {
   "cell_type": "code",
   "execution_count": null,
   "metadata": {},
   "outputs": [],
   "source": [
    "################################################################################\n",
    "# CHAPITRE 11a: Exercice 24 page 232\n",
    "################################################################################"
   ]
  },
  {
   "cell_type": "markdown",
   "metadata": {},
   "source": [
    "<div class=\"alert alert-block alert-warning\">\n",
    "Importation des libraires de calcul et de tracé de courbe\n",
    "</div>"
   ]
  },
  {
   "cell_type": "code",
   "execution_count": null,
   "metadata": {},
   "outputs": [],
   "source": [
    "import matplotlib.pyplot as plt\n",
    "import csv"
   ]
  },
  {
   "cell_type": "markdown",
   "metadata": {},
   "source": [
    "<div class=\"alert alert-block alert-warning\">\n",
    "fonction permettant de lire le fichier csv, lecture du fichier et création des variables\n",
    "</div>"
   ]
  },
  {
   "cell_type": "code",
   "execution_count": null,
   "metadata": {},
   "outputs": [],
   "source": [
    "################################################################################\n",
    "# création du tableau des positions en fonction du temps\n",
    "################################################################################\n",
    "t=(0,0.133,0.267,0.400,0.533,0.667,0.800,0.933,1.067)\n",
    "x=(0,0.533,1.067,1.6,2.133,2.667,3.200,3.733,4.267)\n",
    "y=(2.200,2.638,2.902,2.992,2.908,2.649,2.216,1.609,0.828)"
   ]
  },
  {
   "cell_type": "markdown",
   "metadata": {},
   "source": [
    "## 1. Coordonnées du vecteur accélération\n",
    "1. Par analogie avec le calcul des coordonnées vx et vy du vecteur vitesse, compléter les lignes 13 et 17 afin de calculer les coordonnées ax et ay du vecteur accélération"
   ]
  },
  {
   "cell_type": "code",
   "execution_count": null,
   "metadata": {},
   "outputs": [],
   "source": [
    "#Calcul des coordonnées vx et vy des vecteurs vitesse\n",
    "vx=[]\n",
    "for i in range(len(x)-1) :\n",
    "    vx=vx+[(x[i+1]-x[i])/(t[i+1]-t[i])]\n",
    "\n",
    "vy=[]\n",
    "for i in range(len(y)-1) :\n",
    "    vy=vy+[(y[i+1]-y[i])/(t[i+1]-t[i])]\n",
    "    \n",
    "#Calcul des coordonnées ax et ay des vecteurs accélération\n",
    "ax=[]\n",
    "for i in range(len(vx)-1) :\n",
    "    ax=                         # A COMPLETER\n",
    "\n",
    "ay=[]\n",
    "for i in range(len(vy)-1) :\n",
    "    ay=                         # A COMPLETER"
   ]
  },
  {
   "cell_type": "markdown",
   "metadata": {},
   "source": [
    "## 2. Tracé du vecteur accélération\n",
    "2. Mettre en oeuvre le programme pour tracer le vecteur accélération en différentes positions de la trajectoire.<br>\n",
    "3. Donner les caractéristiques du vecteur accélération du centre de masse du système.<br>\n",
    "4. Rappeler les caractéristiques du vecteur champ de pesanteur terrestre $\\vec{g}$ <br>\n",
    "5. A l'aide de la deuxième loi de Newton, montrer que le modèle de la chute libre est ici valide."
   ]
  },
  {
   "cell_type": "code",
   "execution_count": null,
   "metadata": {},
   "outputs": [],
   "source": [
    "################################################################################\n",
    "# Tracé des positions et des vecteurs accélération\n",
    "################################################################################\n",
    "for i in range(len(t)-1):\n",
    "    plt.plot(0,0,x[i],y[i],'ro')\n",
    "    if i < len(t)-2:\n",
    "        plt.arrow(x[i+1],y[i+1],ax[i]*0.1,ay[i]*0.1, color='b',head_width=0.1, head_length=0.10, length_includes_head=True)\n",
    "        plt.text(x[i+1]+0.05,y[i+1]-0.15,'$ \\overrightarrow{a}_{%.i}$'%(i+2),color=\"blue\")\n",
    "\n",
    "#Légende\n",
    "plt.text(1.5,0.55,\"Échelle :    5 $\\mathrm{m\\cdot s^{-2}}$\",  color=\"blue\")\n",
    "plt.plot([2,2],[0,0.5],'_-',color='blue')\n",
    "plt.grid()\n",
    "plt.title(\"Tracé des vecteurs accélération\")\n",
    "plt.xlabel('x (m)')\n",
    "plt.ylabel('y (m)')\n",
    "\n",
    "#sauvegarde sous forme d'image\n",
    "plt.savefig(\"vecteurs-accélération.png\")\n",
    "plt.show()"
   ]
  },
  {
   "cell_type": "code",
   "execution_count": null,
   "metadata": {},
   "outputs": [],
   "source": []
  }
 ],
 "metadata": {
  "kernelspec": {
   "display_name": "Python 3 (ipykernel)",
   "language": "python",
   "name": "python3"
  },
  "language_info": {
   "codemirror_mode": {
    "name": "ipython",
    "version": 3
   },
   "file_extension": ".py",
   "mimetype": "text/x-python",
   "name": "python",
   "nbconvert_exporter": "python",
   "pygments_lexer": "ipython3",
   "version": "3.9.13"
  }
 },
 "nbformat": 4,
 "nbformat_minor": 2
}
