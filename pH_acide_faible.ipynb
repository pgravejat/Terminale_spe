{
 "cells": [
  {
   "cell_type": "markdown",
   "id": "a4ad6c84",
   "metadata": {},
   "source": [
    "<div class=\"alert alert-block alert-info\">\n",
    "- Pour exécuter le code écrit dans un bloc : <b>MAJ-ENTREE </b><br>\n",
    "- Pour recommencer depuis le début : <b>Menu Kernel / Restart and clear output</b><br>\n",
    "- Toujours exécuter dans l'ordre le code écrit dans les blocs précédés de la mention <b>Entrée [ ]</b><br>\n",
    "- Pour recommencer depuis le début et relancer tout le programme en une fois : <b>Menu Kernel / Restart and Run all </b> <br>\n",
    "</div>"
   ]
  },
  {
   "cell_type": "markdown",
   "id": "b6cc114a",
   "metadata": {},
   "source": [
    "<div class=\"alert alert-block alert-warning\">\n",
    "Importation des libraires de calcul et de tracé de courbe\n",
    "</div>"
   ]
  },
  {
   "cell_type": "code",
   "execution_count": 8,
   "id": "babd33ff",
   "metadata": {},
   "outputs": [],
   "source": [
    "import numpy as np"
   ]
  },
  {
   "cell_type": "markdown",
   "id": "164ec91f",
   "metadata": {},
   "source": [
    "## 1. Données\n",
    "Entrer la valeur du pKa de l'acide en solution"
   ]
  },
  {
   "cell_type": "code",
   "execution_count": 10,
   "id": "971eaf67",
   "metadata": {},
   "outputs": [],
   "source": [
    "pKa = 4.8"
   ]
  },
  {
   "cell_type": "markdown",
   "id": "86e46309",
   "metadata": {},
   "source": [
    "Entrer la concentration apportée ca (en mol/L) de l'acide faible "
   ]
  },
  {
   "cell_type": "code",
   "execution_count": 12,
   "id": "24ccf4ae",
   "metadata": {},
   "outputs": [],
   "source": [
    "ca =0.1"
   ]
  },
  {
   "cell_type": "markdown",
   "id": "bf6678ea",
   "metadata": {},
   "source": [
    "## 2. Calcul pH et du taux d'avancement final\n",
    "On négligera l'équilibre d'autoprotolyse de l'eau dans ce qui suit.\n",
    "\n",
    "- 1) Ecrire l'expression de la constante d'acidité **Ka**\n",
    "- 2) On pose **h = [H3O+]f**. A l'aide d'un bilan de matière, établir que **h** vérifie l'équation du second degré suivante : **h² + Ka.h - Ka.ca = 0**\n",
    "- 3) Montrer que le taux d'avancement final **Tau** s'exprime ainsi : **Tau = 10<sup>-pH</sup> / ca**\n",
    "\n",
    "Compléter alors les lignes manquantes ci-dessous"
   ]
  },
  {
   "cell_type": "code",
   "execution_count": 13,
   "id": "4281cd16",
   "metadata": {},
   "outputs": [],
   "source": [
    "    #####   calcul de la constante d'acidité à partir du pKa ######\n",
    "Ka = 10**(-pKa)\n",
    "    #####   coefficients du polynôme du second degré type a.x² + b.x + c  ######\n",
    "\n",
    "a =1\n",
    "b = Ka     \n",
    "c =-Ka*ca\n",
    "\n",
    "    #####   calcul du discriminant  ######\n",
    "delta=b**2-4*a*c\n",
    "\n",
    "    #####   calcul de la racine positive  ######\n",
    "h1=(-b+np.sqrt(delta))/(2*a)\n",
    "    \n",
    "    #####   calcul du pH et du taux d'avancement   ######################################################\n",
    "pH =-np.log10(h1)\n",
    "tau = h1/ca"
   ]
  },
  {
   "cell_type": "markdown",
   "id": "557a01c6",
   "metadata": {},
   "source": [
    "3. Affichage du pH et du taux d'avancement final."
   ]
  },
  {
   "cell_type": "code",
   "execution_count": 14,
   "id": "ab64e92f",
   "metadata": {},
   "outputs": [
    {
     "name": "stdout",
     "output_type": "stream",
     "text": [
      "Le pH est de 2.9\n",
      "Le taux d'avancement final est de 1.3 %\n"
     ]
    }
   ],
   "source": [
    "print(\"Le pH est de\",round(pH,2))\n",
    "print(\"Le taux d'avancement final est de\",round(tau,3)*100,\"%\")"
   ]
  },
  {
   "cell_type": "markdown",
   "id": "7483f84a",
   "metadata": {},
   "source": [
    "C'est fini. Il ne reste plus qu'à télécharger le fichier !"
   ]
  },
  {
   "cell_type": "markdown",
   "id": "3a30665f",
   "metadata": {},
   "source": [
    "La commande suivante imprime toutes les lignes de code exécutées depuis la dernière initialisation de la page (Restart and Clear Output)\n",
    "\n",
    "Cela permet de les copier dans dans un fichier .text par exemple."
   ]
  },
  {
   "cell_type": "code",
   "execution_count": null,
   "id": "ea23f271",
   "metadata": {},
   "outputs": [],
   "source": [
    "%history"
   ]
  },
  {
   "cell_type": "code",
   "execution_count": null,
   "id": "4d625e42",
   "metadata": {},
   "outputs": [],
   "source": []
  }
 ],
 "metadata": {
  "kernelspec": {
   "display_name": "Python 3 (ipykernel)",
   "language": "python",
   "name": "python3"
  },
  "language_info": {
   "codemirror_mode": {
    "name": "ipython",
    "version": 3
   },
   "file_extension": ".py",
   "mimetype": "text/x-python",
   "name": "python",
   "nbconvert_exporter": "python",
   "pygments_lexer": "ipython3",
   "version": "3.9.13"
  }
 },
 "nbformat": 4,
 "nbformat_minor": 5
}
